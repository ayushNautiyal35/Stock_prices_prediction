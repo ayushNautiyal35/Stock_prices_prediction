{
 "cells": [
  {
   "cell_type": "code",
   "execution_count": 1,
   "id": "e9c81051",
   "metadata": {},
   "outputs": [],
   "source": [
    "import pandas as pd"
   ]
  },
  {
   "cell_type": "code",
   "execution_count": 2,
   "id": "0b935b83",
   "metadata": {},
   "outputs": [],
   "source": [
    "data=pd.read_csv('BAJFINANCE.csv')"
   ]
  },
  {
   "cell_type": "code",
   "execution_count": 3,
   "id": "6a73c9e1",
   "metadata": {},
   "outputs": [
    {
     "data": {
      "text/html": [
       "<div>\n",
       "<style scoped>\n",
       "    .dataframe tbody tr th:only-of-type {\n",
       "        vertical-align: middle;\n",
       "    }\n",
       "\n",
       "    .dataframe tbody tr th {\n",
       "        vertical-align: top;\n",
       "    }\n",
       "\n",
       "    .dataframe thead th {\n",
       "        text-align: right;\n",
       "    }\n",
       "</style>\n",
       "<table border=\"1\" class=\"dataframe\">\n",
       "  <thead>\n",
       "    <tr style=\"text-align: right;\">\n",
       "      <th></th>\n",
       "      <th>Date</th>\n",
       "      <th>Symbol</th>\n",
       "      <th>Series</th>\n",
       "      <th>Prev Close</th>\n",
       "      <th>Open</th>\n",
       "      <th>High</th>\n",
       "      <th>Low</th>\n",
       "      <th>Last</th>\n",
       "      <th>Close</th>\n",
       "      <th>VWAP</th>\n",
       "      <th>Volume</th>\n",
       "      <th>Turnover</th>\n",
       "      <th>Trades</th>\n",
       "      <th>Deliverable Volume</th>\n",
       "      <th>%Deliverble</th>\n",
       "    </tr>\n",
       "  </thead>\n",
       "  <tbody>\n",
       "    <tr>\n",
       "      <th>0</th>\n",
       "      <td>2000-01-03</td>\n",
       "      <td>BAJAUTOFIN</td>\n",
       "      <td>EQ</td>\n",
       "      <td>46.95</td>\n",
       "      <td>49.45</td>\n",
       "      <td>50.75</td>\n",
       "      <td>46.5</td>\n",
       "      <td>50.75</td>\n",
       "      <td>50.75</td>\n",
       "      <td>50.05</td>\n",
       "      <td>7600</td>\n",
       "      <td>3.803800e+10</td>\n",
       "      <td>NaN</td>\n",
       "      <td>NaN</td>\n",
       "      <td>NaN</td>\n",
       "    </tr>\n",
       "    <tr>\n",
       "      <th>1</th>\n",
       "      <td>2000-01-04</td>\n",
       "      <td>BAJAUTOFIN</td>\n",
       "      <td>EQ</td>\n",
       "      <td>50.75</td>\n",
       "      <td>53.20</td>\n",
       "      <td>53.20</td>\n",
       "      <td>47.9</td>\n",
       "      <td>48.00</td>\n",
       "      <td>48.10</td>\n",
       "      <td>48.56</td>\n",
       "      <td>5000</td>\n",
       "      <td>2.428000e+10</td>\n",
       "      <td>NaN</td>\n",
       "      <td>NaN</td>\n",
       "      <td>NaN</td>\n",
       "    </tr>\n",
       "    <tr>\n",
       "      <th>2</th>\n",
       "      <td>2000-01-05</td>\n",
       "      <td>BAJAUTOFIN</td>\n",
       "      <td>EQ</td>\n",
       "      <td>48.10</td>\n",
       "      <td>46.55</td>\n",
       "      <td>47.40</td>\n",
       "      <td>44.6</td>\n",
       "      <td>44.60</td>\n",
       "      <td>44.60</td>\n",
       "      <td>45.47</td>\n",
       "      <td>3500</td>\n",
       "      <td>1.591450e+10</td>\n",
       "      <td>NaN</td>\n",
       "      <td>NaN</td>\n",
       "      <td>NaN</td>\n",
       "    </tr>\n",
       "    <tr>\n",
       "      <th>3</th>\n",
       "      <td>2000-01-06</td>\n",
       "      <td>BAJAUTOFIN</td>\n",
       "      <td>EQ</td>\n",
       "      <td>44.60</td>\n",
       "      <td>43.50</td>\n",
       "      <td>46.00</td>\n",
       "      <td>42.1</td>\n",
       "      <td>46.00</td>\n",
       "      <td>45.25</td>\n",
       "      <td>44.43</td>\n",
       "      <td>6200</td>\n",
       "      <td>2.754750e+10</td>\n",
       "      <td>NaN</td>\n",
       "      <td>NaN</td>\n",
       "      <td>NaN</td>\n",
       "    </tr>\n",
       "    <tr>\n",
       "      <th>4</th>\n",
       "      <td>2000-01-07</td>\n",
       "      <td>BAJAUTOFIN</td>\n",
       "      <td>EQ</td>\n",
       "      <td>45.25</td>\n",
       "      <td>48.00</td>\n",
       "      <td>48.00</td>\n",
       "      <td>42.0</td>\n",
       "      <td>42.90</td>\n",
       "      <td>42.90</td>\n",
       "      <td>44.44</td>\n",
       "      <td>3500</td>\n",
       "      <td>1.555550e+10</td>\n",
       "      <td>NaN</td>\n",
       "      <td>NaN</td>\n",
       "      <td>NaN</td>\n",
       "    </tr>\n",
       "  </tbody>\n",
       "</table>\n",
       "</div>"
      ],
      "text/plain": [
       "         Date      Symbol Series  Prev Close   Open   High   Low   Last  \\\n",
       "0  2000-01-03  BAJAUTOFIN     EQ       46.95  49.45  50.75  46.5  50.75   \n",
       "1  2000-01-04  BAJAUTOFIN     EQ       50.75  53.20  53.20  47.9  48.00   \n",
       "2  2000-01-05  BAJAUTOFIN     EQ       48.10  46.55  47.40  44.6  44.60   \n",
       "3  2000-01-06  BAJAUTOFIN     EQ       44.60  43.50  46.00  42.1  46.00   \n",
       "4  2000-01-07  BAJAUTOFIN     EQ       45.25  48.00  48.00  42.0  42.90   \n",
       "\n",
       "   Close   VWAP  Volume      Turnover  Trades  Deliverable Volume  %Deliverble  \n",
       "0  50.75  50.05    7600  3.803800e+10     NaN                 NaN          NaN  \n",
       "1  48.10  48.56    5000  2.428000e+10     NaN                 NaN          NaN  \n",
       "2  44.60  45.47    3500  1.591450e+10     NaN                 NaN          NaN  \n",
       "3  45.25  44.43    6200  2.754750e+10     NaN                 NaN          NaN  \n",
       "4  42.90  44.44    3500  1.555550e+10     NaN                 NaN          NaN  "
      ]
     },
     "execution_count": 3,
     "metadata": {},
     "output_type": "execute_result"
    }
   ],
   "source": [
    "data.head()"
   ]
  },
  {
   "cell_type": "code",
   "execution_count": 4,
   "id": "1fb866f9",
   "metadata": {},
   "outputs": [
    {
     "name": "stdout",
     "output_type": "stream",
     "text": [
      "<class 'pandas.core.frame.DataFrame'>\n",
      "RangeIndex: 5070 entries, 0 to 5069\n",
      "Data columns (total 15 columns):\n",
      " #   Column              Non-Null Count  Dtype  \n",
      "---  ------              --------------  -----  \n",
      " 0   Date                5070 non-null   object \n",
      " 1   Symbol              5070 non-null   object \n",
      " 2   Series              5070 non-null   object \n",
      " 3   Prev Close          5070 non-null   float64\n",
      " 4   Open                5070 non-null   float64\n",
      " 5   High                5070 non-null   float64\n",
      " 6   Low                 5070 non-null   float64\n",
      " 7   Last                5070 non-null   float64\n",
      " 8   Close               5070 non-null   float64\n",
      " 9   VWAP                5070 non-null   float64\n",
      " 10  Volume              5070 non-null   int64  \n",
      " 11  Turnover            5070 non-null   float64\n",
      " 12  Trades              2291 non-null   float64\n",
      " 13  Deliverable Volume  4624 non-null   float64\n",
      " 14  %Deliverble         4624 non-null   float64\n",
      "dtypes: float64(11), int64(1), object(3)\n",
      "memory usage: 594.3+ KB\n"
     ]
    }
   ],
   "source": [
    "data.info()"
   ]
  },
  {
   "cell_type": "code",
   "execution_count": 5,
   "id": "1a312c49",
   "metadata": {},
   "outputs": [
    {
     "data": {
      "text/plain": [
       "Date                     0\n",
       "Symbol                   0\n",
       "Series                   0\n",
       "Prev Close               0\n",
       "Open                     0\n",
       "High                     0\n",
       "Low                      0\n",
       "Last                     0\n",
       "Close                    0\n",
       "VWAP                     0\n",
       "Volume                   0\n",
       "Turnover                 0\n",
       "Trades                2779\n",
       "Deliverable Volume     446\n",
       "%Deliverble            446\n",
       "dtype: int64"
      ]
     },
     "execution_count": 5,
     "metadata": {},
     "output_type": "execute_result"
    }
   ],
   "source": [
    "data.isnull().sum()"
   ]
  },
  {
   "cell_type": "code",
   "execution_count": 6,
   "id": "2aef660f",
   "metadata": {},
   "outputs": [
    {
     "data": {
      "text/html": [
       "<div>\n",
       "<style scoped>\n",
       "    .dataframe tbody tr th:only-of-type {\n",
       "        vertical-align: middle;\n",
       "    }\n",
       "\n",
       "    .dataframe tbody tr th {\n",
       "        vertical-align: top;\n",
       "    }\n",
       "\n",
       "    .dataframe thead th {\n",
       "        text-align: right;\n",
       "    }\n",
       "</style>\n",
       "<table border=\"1\" class=\"dataframe\">\n",
       "  <thead>\n",
       "    <tr style=\"text-align: right;\">\n",
       "      <th></th>\n",
       "      <th>Date</th>\n",
       "      <th>Symbol</th>\n",
       "      <th>Series</th>\n",
       "      <th>Prev Close</th>\n",
       "      <th>Open</th>\n",
       "      <th>High</th>\n",
       "      <th>Low</th>\n",
       "      <th>Last</th>\n",
       "      <th>Close</th>\n",
       "      <th>VWAP</th>\n",
       "      <th>Volume</th>\n",
       "      <th>Turnover</th>\n",
       "      <th>Trades</th>\n",
       "      <th>Deliverable Volume</th>\n",
       "      <th>%Deliverble</th>\n",
       "    </tr>\n",
       "  </thead>\n",
       "  <tbody>\n",
       "    <tr>\n",
       "      <th>0</th>\n",
       "      <td>NaN</td>\n",
       "      <td>NaN</td>\n",
       "      <td>NaN</td>\n",
       "      <td>NaN</td>\n",
       "      <td>NaN</td>\n",
       "      <td>NaN</td>\n",
       "      <td>NaN</td>\n",
       "      <td>NaN</td>\n",
       "      <td>NaN</td>\n",
       "      <td>NaN</td>\n",
       "      <td>NaN</td>\n",
       "      <td>NaN</td>\n",
       "      <td>NaN</td>\n",
       "      <td>NaN</td>\n",
       "      <td>NaN</td>\n",
       "    </tr>\n",
       "    <tr>\n",
       "      <th>1</th>\n",
       "      <td>NaN</td>\n",
       "      <td>NaN</td>\n",
       "      <td>NaN</td>\n",
       "      <td>NaN</td>\n",
       "      <td>NaN</td>\n",
       "      <td>NaN</td>\n",
       "      <td>NaN</td>\n",
       "      <td>NaN</td>\n",
       "      <td>NaN</td>\n",
       "      <td>NaN</td>\n",
       "      <td>NaN</td>\n",
       "      <td>NaN</td>\n",
       "      <td>NaN</td>\n",
       "      <td>NaN</td>\n",
       "      <td>NaN</td>\n",
       "    </tr>\n",
       "    <tr>\n",
       "      <th>2</th>\n",
       "      <td>NaN</td>\n",
       "      <td>NaN</td>\n",
       "      <td>NaN</td>\n",
       "      <td>NaN</td>\n",
       "      <td>NaN</td>\n",
       "      <td>NaN</td>\n",
       "      <td>NaN</td>\n",
       "      <td>NaN</td>\n",
       "      <td>NaN</td>\n",
       "      <td>NaN</td>\n",
       "      <td>NaN</td>\n",
       "      <td>NaN</td>\n",
       "      <td>NaN</td>\n",
       "      <td>NaN</td>\n",
       "      <td>NaN</td>\n",
       "    </tr>\n",
       "    <tr>\n",
       "      <th>3</th>\n",
       "      <td>NaN</td>\n",
       "      <td>NaN</td>\n",
       "      <td>NaN</td>\n",
       "      <td>NaN</td>\n",
       "      <td>NaN</td>\n",
       "      <td>NaN</td>\n",
       "      <td>NaN</td>\n",
       "      <td>NaN</td>\n",
       "      <td>NaN</td>\n",
       "      <td>NaN</td>\n",
       "      <td>NaN</td>\n",
       "      <td>NaN</td>\n",
       "      <td>NaN</td>\n",
       "      <td>NaN</td>\n",
       "      <td>NaN</td>\n",
       "    </tr>\n",
       "    <tr>\n",
       "      <th>4</th>\n",
       "      <td>NaN</td>\n",
       "      <td>NaN</td>\n",
       "      <td>NaN</td>\n",
       "      <td>NaN</td>\n",
       "      <td>NaN</td>\n",
       "      <td>NaN</td>\n",
       "      <td>NaN</td>\n",
       "      <td>NaN</td>\n",
       "      <td>NaN</td>\n",
       "      <td>NaN</td>\n",
       "      <td>NaN</td>\n",
       "      <td>NaN</td>\n",
       "      <td>NaN</td>\n",
       "      <td>NaN</td>\n",
       "      <td>NaN</td>\n",
       "    </tr>\n",
       "    <tr>\n",
       "      <th>...</th>\n",
       "      <td>...</td>\n",
       "      <td>...</td>\n",
       "      <td>...</td>\n",
       "      <td>...</td>\n",
       "      <td>...</td>\n",
       "      <td>...</td>\n",
       "      <td>...</td>\n",
       "      <td>...</td>\n",
       "      <td>...</td>\n",
       "      <td>...</td>\n",
       "      <td>...</td>\n",
       "      <td>...</td>\n",
       "      <td>...</td>\n",
       "      <td>...</td>\n",
       "      <td>...</td>\n",
       "    </tr>\n",
       "    <tr>\n",
       "      <th>5065</th>\n",
       "      <td>NaN</td>\n",
       "      <td>NaN</td>\n",
       "      <td>NaN</td>\n",
       "      <td>NaN</td>\n",
       "      <td>NaN</td>\n",
       "      <td>NaN</td>\n",
       "      <td>NaN</td>\n",
       "      <td>NaN</td>\n",
       "      <td>NaN</td>\n",
       "      <td>NaN</td>\n",
       "      <td>NaN</td>\n",
       "      <td>NaN</td>\n",
       "      <td>NaN</td>\n",
       "      <td>NaN</td>\n",
       "      <td>NaN</td>\n",
       "    </tr>\n",
       "    <tr>\n",
       "      <th>5066</th>\n",
       "      <td>NaN</td>\n",
       "      <td>NaN</td>\n",
       "      <td>NaN</td>\n",
       "      <td>NaN</td>\n",
       "      <td>NaN</td>\n",
       "      <td>NaN</td>\n",
       "      <td>NaN</td>\n",
       "      <td>NaN</td>\n",
       "      <td>NaN</td>\n",
       "      <td>NaN</td>\n",
       "      <td>NaN</td>\n",
       "      <td>NaN</td>\n",
       "      <td>NaN</td>\n",
       "      <td>NaN</td>\n",
       "      <td>NaN</td>\n",
       "    </tr>\n",
       "    <tr>\n",
       "      <th>5067</th>\n",
       "      <td>NaN</td>\n",
       "      <td>NaN</td>\n",
       "      <td>NaN</td>\n",
       "      <td>NaN</td>\n",
       "      <td>NaN</td>\n",
       "      <td>NaN</td>\n",
       "      <td>NaN</td>\n",
       "      <td>NaN</td>\n",
       "      <td>NaN</td>\n",
       "      <td>NaN</td>\n",
       "      <td>NaN</td>\n",
       "      <td>NaN</td>\n",
       "      <td>NaN</td>\n",
       "      <td>NaN</td>\n",
       "      <td>NaN</td>\n",
       "    </tr>\n",
       "    <tr>\n",
       "      <th>5068</th>\n",
       "      <td>NaN</td>\n",
       "      <td>NaN</td>\n",
       "      <td>NaN</td>\n",
       "      <td>NaN</td>\n",
       "      <td>NaN</td>\n",
       "      <td>NaN</td>\n",
       "      <td>NaN</td>\n",
       "      <td>NaN</td>\n",
       "      <td>NaN</td>\n",
       "      <td>NaN</td>\n",
       "      <td>NaN</td>\n",
       "      <td>NaN</td>\n",
       "      <td>NaN</td>\n",
       "      <td>NaN</td>\n",
       "      <td>NaN</td>\n",
       "    </tr>\n",
       "    <tr>\n",
       "      <th>5069</th>\n",
       "      <td>NaN</td>\n",
       "      <td>NaN</td>\n",
       "      <td>NaN</td>\n",
       "      <td>NaN</td>\n",
       "      <td>NaN</td>\n",
       "      <td>NaN</td>\n",
       "      <td>NaN</td>\n",
       "      <td>NaN</td>\n",
       "      <td>NaN</td>\n",
       "      <td>NaN</td>\n",
       "      <td>NaN</td>\n",
       "      <td>NaN</td>\n",
       "      <td>NaN</td>\n",
       "      <td>NaN</td>\n",
       "      <td>NaN</td>\n",
       "    </tr>\n",
       "  </tbody>\n",
       "</table>\n",
       "<p>5070 rows × 15 columns</p>\n",
       "</div>"
      ],
      "text/plain": [
       "     Date Symbol Series  Prev Close  Open  High  Low  Last  Close  VWAP  \\\n",
       "0     NaN    NaN    NaN         NaN   NaN   NaN  NaN   NaN    NaN   NaN   \n",
       "1     NaN    NaN    NaN         NaN   NaN   NaN  NaN   NaN    NaN   NaN   \n",
       "2     NaN    NaN    NaN         NaN   NaN   NaN  NaN   NaN    NaN   NaN   \n",
       "3     NaN    NaN    NaN         NaN   NaN   NaN  NaN   NaN    NaN   NaN   \n",
       "4     NaN    NaN    NaN         NaN   NaN   NaN  NaN   NaN    NaN   NaN   \n",
       "...   ...    ...    ...         ...   ...   ...  ...   ...    ...   ...   \n",
       "5065  NaN    NaN    NaN         NaN   NaN   NaN  NaN   NaN    NaN   NaN   \n",
       "5066  NaN    NaN    NaN         NaN   NaN   NaN  NaN   NaN    NaN   NaN   \n",
       "5067  NaN    NaN    NaN         NaN   NaN   NaN  NaN   NaN    NaN   NaN   \n",
       "5068  NaN    NaN    NaN         NaN   NaN   NaN  NaN   NaN    NaN   NaN   \n",
       "5069  NaN    NaN    NaN         NaN   NaN   NaN  NaN   NaN    NaN   NaN   \n",
       "\n",
       "      Volume  Turnover  Trades  Deliverable Volume  %Deliverble  \n",
       "0        NaN       NaN     NaN                 NaN          NaN  \n",
       "1        NaN       NaN     NaN                 NaN          NaN  \n",
       "2        NaN       NaN     NaN                 NaN          NaN  \n",
       "3        NaN       NaN     NaN                 NaN          NaN  \n",
       "4        NaN       NaN     NaN                 NaN          NaN  \n",
       "...      ...       ...     ...                 ...          ...  \n",
       "5065     NaN       NaN     NaN                 NaN          NaN  \n",
       "5066     NaN       NaN     NaN                 NaN          NaN  \n",
       "5067     NaN       NaN     NaN                 NaN          NaN  \n",
       "5068     NaN       NaN     NaN                 NaN          NaN  \n",
       "5069     NaN       NaN     NaN                 NaN          NaN  \n",
       "\n",
       "[5070 rows x 15 columns]"
      ]
     },
     "execution_count": 6,
     "metadata": {},
     "output_type": "execute_result"
    }
   ],
   "source": [
    "data[data.isnull()]"
   ]
  },
  {
   "cell_type": "code",
   "execution_count": 7,
   "id": "7ad12be6",
   "metadata": {},
   "outputs": [],
   "source": [
    "data['Trades'].fillna(data['Trades'].median(),inplace=True)\n",
    "data['Deliverable Volume'].fillna(data['Deliverable Volume'].median(),inplace=True)\n",
    "data['%Deliverble'].fillna(data['%Deliverble'].median(),inplace=True)\n"
   ]
  },
  {
   "cell_type": "code",
   "execution_count": 8,
   "id": "47fd7804",
   "metadata": {},
   "outputs": [
    {
     "name": "stdout",
     "output_type": "stream",
     "text": [
      "<class 'pandas.core.frame.DataFrame'>\n",
      "RangeIndex: 5070 entries, 0 to 5069\n",
      "Data columns (total 15 columns):\n",
      " #   Column              Non-Null Count  Dtype  \n",
      "---  ------              --------------  -----  \n",
      " 0   Date                5070 non-null   object \n",
      " 1   Symbol              5070 non-null   object \n",
      " 2   Series              5070 non-null   object \n",
      " 3   Prev Close          5070 non-null   float64\n",
      " 4   Open                5070 non-null   float64\n",
      " 5   High                5070 non-null   float64\n",
      " 6   Low                 5070 non-null   float64\n",
      " 7   Last                5070 non-null   float64\n",
      " 8   Close               5070 non-null   float64\n",
      " 9   VWAP                5070 non-null   float64\n",
      " 10  Volume              5070 non-null   int64  \n",
      " 11  Turnover            5070 non-null   float64\n",
      " 12  Trades              5070 non-null   float64\n",
      " 13  Deliverable Volume  5070 non-null   float64\n",
      " 14  %Deliverble         5070 non-null   float64\n",
      "dtypes: float64(11), int64(1), object(3)\n",
      "memory usage: 594.3+ KB\n"
     ]
    }
   ],
   "source": [
    "data.info()"
   ]
  },
  {
   "cell_type": "code",
   "execution_count": 9,
   "id": "914b1614",
   "metadata": {},
   "outputs": [],
   "source": [
    "data.set_index('Date',inplace=True)"
   ]
  },
  {
   "cell_type": "code",
   "execution_count": 10,
   "id": "97c967f8",
   "metadata": {},
   "outputs": [
    {
     "data": {
      "text/plain": [
       "<Axes: xlabel='Date'>"
      ]
     },
     "execution_count": 10,
     "metadata": {},
     "output_type": "execute_result"
    },
    {
     "data": {
      "image/png": "[encoded data removed]",
      "text/plain": [
       "<Figure size 640x480 with 1 Axes>"
      ]
     },
     "metadata": {},
     "output_type": "display_data"
    }
   ],
   "source": [
    "data['VWAP'].plot()"
   ]
  },
  {
   "cell_type": "code",
   "execution_count": 11,
   "id": "edd0d29c",
   "metadata": {},
   "outputs": [
    {
     "data": {
      "text/plain": [
       "Index(['Symbol', 'Series', 'Prev Close', 'Open', 'High', 'Low', 'Last',\n",
       "       'Close', 'VWAP', 'Volume', 'Turnover', 'Trades', 'Deliverable Volume',\n",
       "       '%Deliverble'],\n",
       "      dtype='object')"
      ]
     },
     "execution_count": 11,
     "metadata": {},
     "output_type": "execute_result"
    }
   ],
   "source": [
    "data.columns"
   ]
  },
  {
   "cell_type": "code",
   "execution_count": 13,
   "id": "793990fa",
   "metadata": {},
   "outputs": [],
   "source": [
    "lag_features=['High','Low','Volume','Turnover','Trades']\n",
    "window1=3\n",
    "window2=7"
   ]
  },
  {
   "cell_type": "code",
   "execution_count": 15,
   "id": "5bd17fde",
   "metadata": {},
   "outputs": [],
   "source": [
    "for feature in lag_features:\n",
    "    data[feature+'rolling_mean_3']=data[feature].rolling(window=window1).mean()\n",
    "    data[feature+'rolling_mean_7']=data[feature].rolling(window=window2).mean()"
   ]
  },
  {
   "cell_type": "code",
   "execution_count": 16,
   "id": "a6070f87",
   "metadata": {},
   "outputs": [],
   "source": [
    "for feature in lag_features:\n",
    "    data[feature+'rolling_std_3']=data[feature].rolling(window=window1).std()\n",
    "    data[feature+'rolling_std_7']=data[feature].rolling(window=window2).std()"
   ]
  },
  {
   "cell_type": "code",
   "execution_count": 17,
   "id": "6a049169",
   "metadata": {},
   "outputs": [
    {
     "data": {
      "text/html": [
       "<div>\n",
       "<style scoped>\n",
       "    .dataframe tbody tr th:only-of-type {\n",
       "        vertical-align: middle;\n",
       "    }\n",
       "\n",
       "    .dataframe tbody tr th {\n",
       "        vertical-align: top;\n",
       "    }\n",
       "\n",
       "    .dataframe thead th {\n",
       "        text-align: right;\n",
       "    }\n",
       "</style>\n",
       "<table border=\"1\" class=\"dataframe\">\n",
       "  <thead>\n",
       "    <tr style=\"text-align: right;\">\n",
       "      <th></th>\n",
       "      <th>Symbol</th>\n",
       "      <th>Series</th>\n",
       "      <th>Prev Close</th>\n",
       "      <th>Open</th>\n",
       "      <th>High</th>\n",
       "      <th>Low</th>\n",
       "      <th>Last</th>\n",
       "      <th>Close</th>\n",
       "      <th>VWAP</th>\n",
       "      <th>Volume</th>\n",
       "      <th>...</th>\n",
       "      <th>Highrolling_std_3</th>\n",
       "      <th>Highrolling_std_7</th>\n",
       "      <th>Lowrolling_std_3</th>\n",
       "      <th>Lowrolling_std_7</th>\n",
       "      <th>Volumerolling_std_3</th>\n",
       "      <th>Volumerolling_std_7</th>\n",
       "      <th>Turnoverrolling_std_3</th>\n",
       "      <th>Turnoverrolling_std_7</th>\n",
       "      <th>Tradesrolling_std_3</th>\n",
       "      <th>Tradesrolling_std_7</th>\n",
       "    </tr>\n",
       "    <tr>\n",
       "      <th>Date</th>\n",
       "      <th></th>\n",
       "      <th></th>\n",
       "      <th></th>\n",
       "      <th></th>\n",
       "      <th></th>\n",
       "      <th></th>\n",
       "      <th></th>\n",
       "      <th></th>\n",
       "      <th></th>\n",
       "      <th></th>\n",
       "      <th></th>\n",
       "      <th></th>\n",
       "      <th></th>\n",
       "      <th></th>\n",
       "      <th></th>\n",
       "      <th></th>\n",
       "      <th></th>\n",
       "      <th></th>\n",
       "      <th></th>\n",
       "      <th></th>\n",
       "      <th></th>\n",
       "    </tr>\n",
       "  </thead>\n",
       "  <tbody>\n",
       "    <tr>\n",
       "      <th>2000-01-03</th>\n",
       "      <td>BAJAUTOFIN</td>\n",
       "      <td>EQ</td>\n",
       "      <td>46.95</td>\n",
       "      <td>49.45</td>\n",
       "      <td>50.75</td>\n",
       "      <td>46.5</td>\n",
       "      <td>50.75</td>\n",
       "      <td>50.75</td>\n",
       "      <td>50.05</td>\n",
       "      <td>7600</td>\n",
       "      <td>...</td>\n",
       "      <td>NaN</td>\n",
       "      <td>NaN</td>\n",
       "      <td>NaN</td>\n",
       "      <td>NaN</td>\n",
       "      <td>NaN</td>\n",
       "      <td>NaN</td>\n",
       "      <td>NaN</td>\n",
       "      <td>NaN</td>\n",
       "      <td>NaN</td>\n",
       "      <td>NaN</td>\n",
       "    </tr>\n",
       "    <tr>\n",
       "      <th>2000-01-04</th>\n",
       "      <td>BAJAUTOFIN</td>\n",
       "      <td>EQ</td>\n",
       "      <td>50.75</td>\n",
       "      <td>53.20</td>\n",
       "      <td>53.20</td>\n",
       "      <td>47.9</td>\n",
       "      <td>48.00</td>\n",
       "      <td>48.10</td>\n",
       "      <td>48.56</td>\n",
       "      <td>5000</td>\n",
       "      <td>...</td>\n",
       "      <td>NaN</td>\n",
       "      <td>NaN</td>\n",
       "      <td>NaN</td>\n",
       "      <td>NaN</td>\n",
       "      <td>NaN</td>\n",
       "      <td>NaN</td>\n",
       "      <td>NaN</td>\n",
       "      <td>NaN</td>\n",
       "      <td>NaN</td>\n",
       "      <td>NaN</td>\n",
       "    </tr>\n",
       "    <tr>\n",
       "      <th>2000-01-05</th>\n",
       "      <td>BAJAUTOFIN</td>\n",
       "      <td>EQ</td>\n",
       "      <td>48.10</td>\n",
       "      <td>46.55</td>\n",
       "      <td>47.40</td>\n",
       "      <td>44.6</td>\n",
       "      <td>44.60</td>\n",
       "      <td>44.60</td>\n",
       "      <td>45.47</td>\n",
       "      <td>3500</td>\n",
       "      <td>...</td>\n",
       "      <td>2.911615</td>\n",
       "      <td>NaN</td>\n",
       "      <td>1.656301</td>\n",
       "      <td>NaN</td>\n",
       "      <td>2074.447718</td>\n",
       "      <td>NaN</td>\n",
       "      <td>1.117075e+10</td>\n",
       "      <td>NaN</td>\n",
       "      <td>0.0</td>\n",
       "      <td>NaN</td>\n",
       "    </tr>\n",
       "    <tr>\n",
       "      <th>2000-01-06</th>\n",
       "      <td>BAJAUTOFIN</td>\n",
       "      <td>EQ</td>\n",
       "      <td>44.60</td>\n",
       "      <td>43.50</td>\n",
       "      <td>46.00</td>\n",
       "      <td>42.1</td>\n",
       "      <td>46.00</td>\n",
       "      <td>45.25</td>\n",
       "      <td>44.43</td>\n",
       "      <td>6200</td>\n",
       "      <td>...</td>\n",
       "      <td>3.817504</td>\n",
       "      <td>NaN</td>\n",
       "      <td>2.909181</td>\n",
       "      <td>NaN</td>\n",
       "      <td>1352.774926</td>\n",
       "      <td>NaN</td>\n",
       "      <td>5.999789e+09</td>\n",
       "      <td>NaN</td>\n",
       "      <td>0.0</td>\n",
       "      <td>NaN</td>\n",
       "    </tr>\n",
       "    <tr>\n",
       "      <th>2000-01-07</th>\n",
       "      <td>BAJAUTOFIN</td>\n",
       "      <td>EQ</td>\n",
       "      <td>45.25</td>\n",
       "      <td>48.00</td>\n",
       "      <td>48.00</td>\n",
       "      <td>42.0</td>\n",
       "      <td>42.90</td>\n",
       "      <td>42.90</td>\n",
       "      <td>44.44</td>\n",
       "      <td>3500</td>\n",
       "      <td>...</td>\n",
       "      <td>1.026320</td>\n",
       "      <td>NaN</td>\n",
       "      <td>1.473092</td>\n",
       "      <td>NaN</td>\n",
       "      <td>1558.845727</td>\n",
       "      <td>NaN</td>\n",
       "      <td>6.822312e+09</td>\n",
       "      <td>NaN</td>\n",
       "      <td>0.0</td>\n",
       "      <td>NaN</td>\n",
       "    </tr>\n",
       "  </tbody>\n",
       "</table>\n",
       "<p>5 rows × 34 columns</p>\n",
       "</div>"
      ],
      "text/plain": [
       "                Symbol Series  Prev Close   Open   High   Low   Last  Close  \\\n",
       "Date                                                                          \n",
       "2000-01-03  BAJAUTOFIN     EQ       46.95  49.45  50.75  46.5  50.75  50.75   \n",
       "2000-01-04  BAJAUTOFIN     EQ       50.75  53.20  53.20  47.9  48.00  48.10   \n",
       "2000-01-05  BAJAUTOFIN     EQ       48.10  46.55  47.40  44.6  44.60  44.60   \n",
       "2000-01-06  BAJAUTOFIN     EQ       44.60  43.50  46.00  42.1  46.00  45.25   \n",
       "2000-01-07  BAJAUTOFIN     EQ       45.25  48.00  48.00  42.0  42.90  42.90   \n",
       "\n",
       "             VWAP  Volume  ...  Highrolling_std_3  Highrolling_std_7  \\\n",
       "Date                       ...                                         \n",
       "2000-01-03  50.05    7600  ...                NaN                NaN   \n",
       "2000-01-04  48.56    5000  ...                NaN                NaN   \n",
       "2000-01-05  45.47    3500  ...           2.911615                NaN   \n",
       "2000-01-06  44.43    6200  ...           3.817504                NaN   \n",
       "2000-01-07  44.44    3500  ...           1.026320                NaN   \n",
       "\n",
       "            Lowrolling_std_3  Lowrolling_std_7  Volumerolling_std_3  \\\n",
       "Date                                                                  \n",
       "2000-01-03               NaN               NaN                  NaN   \n",
       "2000-01-04               NaN               NaN                  NaN   \n",
       "2000-01-05          1.656301               NaN          2074.447718   \n",
       "2000-01-06          2.909181               NaN          1352.774926   \n",
       "2000-01-07          1.473092               NaN          1558.845727   \n",
       "\n",
       "            Volumerolling_std_7  Turnoverrolling_std_3  Turnoverrolling_std_7  \\\n",
       "Date                                                                            \n",
       "2000-01-03                  NaN                    NaN                    NaN   \n",
       "2000-01-04                  NaN                    NaN                    NaN   \n",
       "2000-01-05                  NaN           1.117075e+10                    NaN   \n",
       "2000-01-06                  NaN           5.999789e+09                    NaN   \n",
       "2000-01-07                  NaN           6.822312e+09                    NaN   \n",
       "\n",
       "            Tradesrolling_std_3  Tradesrolling_std_7  \n",
       "Date                                                  \n",
       "2000-01-03                  NaN                  NaN  \n",
       "2000-01-04                  NaN                  NaN  \n",
       "2000-01-05                  0.0                  NaN  \n",
       "2000-01-06                  0.0                  NaN  \n",
       "2000-01-07                  0.0                  NaN  \n",
       "\n",
       "[5 rows x 34 columns]"
      ]
     },
     "execution_count": 17,
     "metadata": {},
     "output_type": "execute_result"
    }
   ],
   "source": [
    "data.head()"
   ]
  },
  {
   "cell_type": "code",
   "execution_count": 19,
   "id": "ebf679b3",
   "metadata": {},
   "outputs": [],
   "source": [
    "data.dropna(inplace=True)"
   ]
  },
  {
   "cell_type": "code",
   "execution_count": 20,
   "id": "a7b3bc1e",
   "metadata": {},
   "outputs": [
    {
     "data": {
      "text/plain": [
       "Symbol                    False\n",
       "Series                    False\n",
       "Prev Close                False\n",
       "Open                      False\n",
       "High                      False\n",
       "Low                       False\n",
       "Last                      False\n",
       "Close                     False\n",
       "VWAP                      False\n",
       "Volume                    False\n",
       "Turnover                  False\n",
       "Trades                    False\n",
       "Deliverable Volume        False\n",
       "%Deliverble               False\n",
       "Highrolling_mean_3        False\n",
       "Highrolling_mean_7        False\n",
       "Lowrolling_mean_3         False\n",
       "Lowrolling_mean_7         False\n",
       "Volumerolling_mean_3      False\n",
       "Volumerolling_mean_7      False\n",
       "Turnoverrolling_mean_3    False\n",
       "Turnoverrolling_mean_7    False\n",
       "Tradesrolling_mean_3      False\n",
       "Tradesrolling_mean_7      False\n",
       "Highrolling_std_3         False\n",
       "Highrolling_std_7         False\n",
       "Lowrolling_std_3          False\n",
       "Lowrolling_std_7          False\n",
       "Volumerolling_std_3       False\n",
       "Volumerolling_std_7       False\n",
       "Turnoverrolling_std_3     False\n",
       "Turnoverrolling_std_7     False\n",
       "Tradesrolling_std_3       False\n",
       "Tradesrolling_std_7       False\n",
       "dtype: bool"
      ]
     },
     "execution_count": 20,
     "metadata": {},
     "output_type": "execute_result"
    }
   ],
   "source": [
    "data.isnull().any()"
   ]
  },
  {
   "cell_type": "code",
   "execution_count": 21,
   "id": "521bf536",
   "metadata": {},
   "outputs": [
    {
     "data": {
      "text/plain": [
       "Index(['Symbol', 'Series', 'Prev Close', 'Open', 'High', 'Low', 'Last',\n",
       "       'Close', 'VWAP', 'Volume', 'Turnover', 'Trades', 'Deliverable Volume',\n",
       "       '%Deliverble', 'Highrolling_mean_3', 'Highrolling_mean_7',\n",
       "       'Lowrolling_mean_3', 'Lowrolling_mean_7', 'Volumerolling_mean_3',\n",
       "       'Volumerolling_mean_7', 'Turnoverrolling_mean_3',\n",
       "       'Turnoverrolling_mean_7', 'Tradesrolling_mean_3',\n",
       "       'Tradesrolling_mean_7', 'Highrolling_std_3', 'Highrolling_std_7',\n",
       "       'Lowrolling_std_3', 'Lowrolling_std_7', 'Volumerolling_std_3',\n",
       "       'Volumerolling_std_7', 'Turnoverrolling_std_3', 'Turnoverrolling_std_7',\n",
       "       'Tradesrolling_std_3', 'Tradesrolling_std_7'],\n",
       "      dtype='object')"
      ]
     },
     "execution_count": 21,
     "metadata": {},
     "output_type": "execute_result"
    }
   ],
   "source": [
    "data.columns"
   ]
  },
  {
   "cell_type": "code",
   "execution_count": 22,
   "id": "94f42e3e",
   "metadata": {},
   "outputs": [],
   "source": [
    "independent_features=['Highrolling_mean_3', 'Highrolling_mean_7',\n",
    "       'Lowrolling_mean_3', 'Lowrolling_mean_7', 'Volumerolling_mean_3',\n",
    "       'Volumerolling_mean_7', 'Turnoverrolling_mean_3',\n",
    "       'Turnoverrolling_mean_7', 'Tradesrolling_mean_3',\n",
    "       'Tradesrolling_mean_7', 'Highrolling_std_3', 'Highrolling_std_7',\n",
    "       'Lowrolling_std_3', 'Lowrolling_std_7', 'Volumerolling_std_3',\n",
    "       'Volumerolling_std_7', 'Turnoverrolling_std_3', 'Turnoverrolling_std_7',\n",
    "       'Tradesrolling_std_3', 'Tradesrolling_std_7']"
   ]
  },
  {
   "cell_type": "code",
   "execution_count": 23,
   "id": "9538b10e",
   "metadata": {},
   "outputs": [
    {
     "data": {
      "text/plain": [
       "(5064, 34)"
      ]
     },
     "execution_count": 23,
     "metadata": {},
     "output_type": "execute_result"
    }
   ],
   "source": [
    "data.shape"
   ]
  },
  {
   "cell_type": "code",
   "execution_count": 24,
   "id": "8bcc0868",
   "metadata": {},
   "outputs": [],
   "source": [
    "training_data=data[0:3500]\n",
    "test_data=data[3500:]"
   ]
  },
  {
   "cell_type": "code",
   "execution_count": 25,
   "id": "c8a4f4e7",
   "metadata": {},
   "outputs": [
    {
     "data": {
      "text/plain": [
       "(3500, 34)"
      ]
     },
     "execution_count": 25,
     "metadata": {},
     "output_type": "execute_result"
    }
   ],
   "source": [
    "training_data.shape"
   ]
  },
  {
   "cell_type": "code",
   "execution_count": 26,
   "id": "c3d86287",
   "metadata": {},
   "outputs": [
    {
     "name": "stdout",
     "output_type": "stream",
     "text": [
      "Collecting pmdarima\n",
      "  Obtaining dependency information for pmdarima from https://files.pythonhosted.org/packages/ac/f8/6c9364602b13f0dba129b53acd1344859690911a4d5021560d9fd6aa087f/pmdarima-2.0.4-cp311-cp311-win_amd64.whl.metadata\n",
      "  Downloading pmdarima-2.0.4-cp311-cp311-win_amd64.whl.metadata (8.0 kB)\n",
      "Requirement already satisfied: joblib>=0.11 in c:\\users\\ayush\\anaconda3\\lib\\site-packages (from pmdarima) (1.2.0)\n",
      "Collecting Cython!=0.29.18,!=0.29.31,>=0.29 (from pmdarima)\n",
      "  Obtaining dependency information for Cython!=0.29.18,!=0.29.31,>=0.29 from https://files.pythonhosted.org/packages/18/ec/f47a721071d084d6c2b6783eb8d058b964b1450cb708d920d0d792f42001/Cython-3.0.10-cp311-cp311-win_amd64.whl.metadata\n",
      "  Downloading Cython-3.0.10-cp311-cp311-win_amd64.whl.metadata (3.2 kB)\n",
      "Requirement already satisfied: numpy>=1.21.2 in c:\\users\\ayush\\anaconda3\\lib\\site-packages (from pmdarima) (1.24.3)\n",
      "Requirement already satisfied: pandas>=0.19 in c:\\users\\ayush\\anaconda3\\lib\\site-packages (from pmdarima) (2.0.3)\n",
      "Requirement already satisfied: scikit-learn>=0.22 in c:\\users\\ayush\\anaconda3\\lib\\site-packages (from pmdarima) (1.2.2)\n",
      "Requirement already satisfied: scipy>=1.3.2 in c:\\users\\ayush\\anaconda3\\lib\\site-packages (from pmdarima) (1.11.1)\n",
      "Requirement already satisfied: statsmodels>=0.13.2 in c:\\users\\ayush\\anaconda3\\lib\\site-packages (from pmdarima) (0.14.0)\n",
      "Requirement already satisfied: urllib3 in c:\\users\\ayush\\anaconda3\\lib\\site-packages (from pmdarima) (1.26.16)\n",
      "Requirement already satisfied: setuptools!=50.0.0,>=38.6.0 in c:\\users\\ayush\\anaconda3\\lib\\site-packages (from pmdarima) (68.0.0)\n",
      "Requirement already satisfied: packaging>=17.1 in c:\\users\\ayush\\anaconda3\\lib\\site-packages (from pmdarima) (23.1)\n",
      "Requirement already satisfied: python-dateutil>=2.8.2 in c:\\users\\ayush\\anaconda3\\lib\\site-packages (from pandas>=0.19->pmdarima) (2.8.2)\n",
      "Requirement already satisfied: pytz>=2020.1 in c:\\users\\ayush\\anaconda3\\lib\\site-packages (from pandas>=0.19->pmdarima) (2023.3.post1)\n",
      "Requirement already satisfied: tzdata>=2022.1 in c:\\users\\ayush\\anaconda3\\lib\\site-packages (from pandas>=0.19->pmdarima) (2023.3)\n",
      "Requirement already satisfied: threadpoolctl>=2.0.0 in c:\\users\\ayush\\anaconda3\\lib\\site-packages (from scikit-learn>=0.22->pmdarima) (2.2.0)\n",
      "Requirement already satisfied: patsy>=0.5.2 in c:\\users\\ayush\\anaconda3\\lib\\site-packages (from statsmodels>=0.13.2->pmdarima) (0.5.3)\n",
      "Requirement already satisfied: six in c:\\users\\ayush\\anaconda3\\lib\\site-packages (from patsy>=0.5.2->statsmodels>=0.13.2->pmdarima) (1.16.0)\n",
      "Downloading pmdarima-2.0.4-cp311-cp311-win_amd64.whl (614 kB)\n",
      "   ---------------------------------------- 0.0/614.7 kB ? eta -:--:--\n",
      "   ---------------------------------------- 0.0/614.7 kB ? eta -:--:--\n",
      "   ---------------------------------------- 0.0/614.7 kB ? eta -:--:--\n",
      "   ---------------------------------------- 0.0/614.7 kB ? eta -:--:--\n",
      "    --------------------------------------- 10.2/614.7 kB ? eta -:--:--\n",
      "    --------------------------------------- 10.2/614.7 kB ? eta -:--:--\n",
      "    --------------------------------------- 10.2/614.7 kB ? eta -:--:--\n",
      "    --------------------------------------- 10.2/614.7 kB ? eta -:--:--\n",
      "    --------------------------------------- 10.2/614.7 kB ? eta -:--:--\n",
      "    --------------------------------------- 10.2/614.7 kB ? eta -:--:--\n",
      "    --------------------------------------- 10.2/614.7 kB ? eta -:--:--\n",
      "   - -------------------------------------- 30.7/614.7 kB 65.4 kB/s eta 0:00:09\n",
      "   - -------------------------------------- 30.7/614.7 kB 65.4 kB/s eta 0:00:09\n",
      "   - -------------------------------------- 30.7/614.7 kB 65.4 kB/s eta 0:00:09\n",
      "   - -------------------------------------- 30.7/614.7 kB 65.4 kB/s eta 0:00:09\n",
      "   - -------------------------------------- 30.7/614.7 kB 65.4 kB/s eta 0:00:09\n",
      "   - -------------------------------------- 30.7/614.7 kB 65.4 kB/s eta 0:00:09\n",
      "   -- ------------------------------------- 41.0/614.7 kB 51.7 kB/s eta 0:00:12\n",
      "   -- ------------------------------------- 41.0/614.7 kB 51.7 kB/s eta 0:00:12\n",
      "   -- ------------------------------------- 41.0/614.7 kB 51.7 kB/s eta 0:00:12\n",
      "   -- ------------------------------------- 41.0/614.7 kB 51.7 kB/s eta 0:00:12\n",
      "   -- ------------------------------------- 41.0/614.7 kB 51.7 kB/s eta 0:00:12\n",
      "   --- ------------------------------------ 61.4/614.7 kB 61.8 kB/s eta 0:00:09\n",
      "   --- ------------------------------------ 61.4/614.7 kB 61.8 kB/s eta 0:00:09\n",
      "   ---- ----------------------------------- 71.7/614.7 kB 64.4 kB/s eta 0:00:09\n",
      "   ---- ----------------------------------- 71.7/614.7 kB 64.4 kB/s eta 0:00:09\n",
      "   ---- ----------------------------------- 71.7/614.7 kB 64.4 kB/s eta 0:00:09\n",
      "   ----- ---------------------------------- 81.9/614.7 kB 66.4 kB/s eta 0:00:09\n",
      "   ------ -------------------------------- 102.4/614.7 kB 81.9 kB/s eta 0:00:07\n",
      "   ------ -------------------------------- 102.4/614.7 kB 81.9 kB/s eta 0:00:07\n",
      "   ------- ------------------------------- 122.9/614.7 kB 92.4 kB/s eta 0:00:06\n",
      "   ------- ------------------------------- 122.9/614.7 kB 92.4 kB/s eta 0:00:06\n",
      "   --------- ---------------------------- 153.6/614.7 kB 107.9 kB/s eta 0:00:05\n",
      "   ----------- -------------------------- 184.3/614.7 kB 126.6 kB/s eta 0:00:04\n",
      "   ------------- ------------------------ 215.0/614.7 kB 145.6 kB/s eta 0:00:03\n",
      "   --------------- ---------------------- 245.8/614.7 kB 160.3 kB/s eta 0:00:03\n",
      "   ------------------ ------------------- 297.0/614.7 kB 191.1 kB/s eta 0:00:02\n",
      "   -------------------- ----------------- 327.7/614.7 kB 205.2 kB/s eta 0:00:02\n",
      "   ----------------------- -------------- 378.9/614.7 kB 229.0 kB/s eta 0:00:02\n",
      "   ------------------------- ------------ 409.6/614.7 kB 243.4 kB/s eta 0:00:01\n",
      "   --------------------------- ---------- 450.6/614.7 kB 260.9 kB/s eta 0:00:01\n",
      "   ------------------------------ ------- 491.5/614.7 kB 277.4 kB/s eta 0:00:01\n",
      "   --------------------------------- ---- 542.7/614.7 kB 296.3 kB/s eta 0:00:01\n",
      "   --------------------------------- ---- 542.7/614.7 kB 296.3 kB/s eta 0:00:01\n",
      "   --------------------------------- ---- 542.7/614.7 kB 296.3 kB/s eta 0:00:01\n",
      "   --------------------------------- ---- 542.7/614.7 kB 296.3 kB/s eta 0:00:01\n",
      "   --------------------------------- ---- 542.7/614.7 kB 296.3 kB/s eta 0:00:01\n",
      "   ---------------------------------- --- 563.2/614.7 kB 274.3 kB/s eta 0:00:01\n",
      "   ---------------------------------- --- 563.2/614.7 kB 274.3 kB/s eta 0:00:01\n",
      "   ---------------------------------- --- 563.2/614.7 kB 274.3 kB/s eta 0:00:01\n",
      "   ---------------------------------- --- 563.2/614.7 kB 274.3 kB/s eta 0:00:01\n",
      "   ----------------------------------- -- 573.4/614.7 kB 255.5 kB/s eta 0:00:01\n",
      "   ------------------------------------ - 593.9/614.7 kB 259.4 kB/s eta 0:00:01\n",
      "   -------------------------------------- 614.7/614.7 kB 261.3 kB/s eta 0:00:00\n",
      "Downloading Cython-3.0.10-cp311-cp311-win_amd64.whl (2.8 MB)\n",
      "   ---------------------------------------- 0.0/2.8 MB ? eta -:--:--\n",
      "   ---------------------------------------- 0.0/2.8 MB ? eta -:--:--\n",
      "   ---------------------------------------- 0.0/2.8 MB 660.6 kB/s eta 0:00:05\n",
      "   - -------------------------------------- 0.1/2.8 MB 762.6 kB/s eta 0:00:04\n",
      "   - -------------------------------------- 0.1/2.8 MB 798.9 kB/s eta 0:00:04\n",
      "   -- ------------------------------------- 0.2/2.8 MB 871.5 kB/s eta 0:00:04\n",
      "   -- ------------------------------------- 0.2/2.8 MB 831.5 kB/s eta 0:00:04\n",
      "   --- ------------------------------------ 0.2/2.8 MB 838.1 kB/s eta 0:00:04\n",
      "   ---- ----------------------------------- 0.3/2.8 MB 874.1 kB/s eta 0:00:03\n",
      "   ---- ----------------------------------- 0.3/2.8 MB 884.2 kB/s eta 0:00:03\n",
      "   ----- ---------------------------------- 0.4/2.8 MB 908.0 kB/s eta 0:00:03\n",
      "   ------ --------------------------------- 0.5/2.8 MB 938.8 kB/s eta 0:00:03\n",
      "   ------- -------------------------------- 0.5/2.8 MB 1.0 MB/s eta 0:00:03\n",
      "   -------- ------------------------------- 0.6/2.8 MB 1.0 MB/s eta 0:00:03\n",
      "   --------- ------------------------------ 0.6/2.8 MB 1.1 MB/s eta 0:00:03\n",
      "   ---------- ----------------------------- 0.7/2.8 MB 1.1 MB/s eta 0:00:02\n",
      "   ----------- ---------------------------- 0.8/2.8 MB 1.1 MB/s eta 0:00:02\n",
      "   ----------- ---------------------------- 0.8/2.8 MB 1.1 MB/s eta 0:00:02\n",
      "   ------------ --------------------------- 0.9/2.8 MB 1.1 MB/s eta 0:00:02\n",
      "   ------------- -------------------------- 1.0/2.8 MB 1.1 MB/s eta 0:00:02\n",
      "   -------------- ------------------------- 1.0/2.8 MB 1.1 MB/s eta 0:00:02\n",
      "   --------------- ------------------------ 1.1/2.8 MB 1.1 MB/s eta 0:00:02\n",
      "   ---------------- ----------------------- 1.2/2.8 MB 1.2 MB/s eta 0:00:02\n",
      "   ----------------- ---------------------- 1.2/2.8 MB 1.2 MB/s eta 0:00:02\n",
      "   ------------------ --------------------- 1.3/2.8 MB 1.2 MB/s eta 0:00:02\n",
      "   ------------------- -------------------- 1.4/2.8 MB 1.2 MB/s eta 0:00:02\n",
      "   -------------------- ------------------- 1.4/2.8 MB 1.2 MB/s eta 0:00:02\n",
      "   --------------------- ------------------ 1.5/2.8 MB 1.2 MB/s eta 0:00:02\n",
      "   ---------------------- ----------------- 1.5/2.8 MB 1.2 MB/s eta 0:00:02\n",
      "   ----------------------- ---------------- 1.6/2.8 MB 1.2 MB/s eta 0:00:01\n",
      "   ----------------------- ---------------- 1.7/2.8 MB 1.2 MB/s eta 0:00:01\n",
      "   ------------------------ --------------- 1.7/2.8 MB 1.2 MB/s eta 0:00:01\n",
      "   ------------------------ --------------- 1.7/2.8 MB 1.2 MB/s eta 0:00:01\n",
      "   ------------------------ --------------- 1.7/2.8 MB 1.2 MB/s eta 0:00:01\n",
      "   ------------------------ --------------- 1.7/2.8 MB 1.2 MB/s eta 0:00:01\n",
      "   ------------------------- -------------- 1.8/2.8 MB 1.1 MB/s eta 0:00:01\n",
      "   ------------------------- -------------- 1.8/2.8 MB 1.1 MB/s eta 0:00:01\n",
      "   ------------------------- -------------- 1.8/2.8 MB 1.1 MB/s eta 0:00:01\n",
      "   -------------------------- ------------- 1.8/2.8 MB 1.0 MB/s eta 0:00:01\n",
      "   -------------------------- ------------- 1.8/2.8 MB 1.0 MB/s eta 0:00:01\n",
      "   -------------------------- ------------- 1.9/2.8 MB 1.0 MB/s eta 0:00:01\n",
      "   -------------------------- ------------- 1.9/2.8 MB 1.0 MB/s eta 0:00:01\n",
      "   --------------------------- ------------ 1.9/2.8 MB 996.4 kB/s eta 0:00:01\n",
      "   --------------------------- ------------ 1.9/2.8 MB 980.5 kB/s eta 0:00:01\n",
      "   ---------------------------- ----------- 2.0/2.8 MB 975.2 kB/s eta 0:00:01\n",
      "   ----------------------------- ---------- 2.0/2.8 MB 977.8 kB/s eta 0:00:01\n",
      "   ------------------------------ --------- 2.1/2.8 MB 990.5 kB/s eta 0:00:01\n",
      "   ------------------------------- -------- 2.2/2.8 MB 1.0 MB/s eta 0:00:01\n",
      "   ------------------------------- -------- 2.2/2.8 MB 1.0 MB/s eta 0:00:01\n",
      "   -------------------------------- ------- 2.3/2.8 MB 1.0 MB/s eta 0:00:01\n",
      "   --------------------------------- ------ 2.3/2.8 MB 1.0 MB/s eta 0:00:01\n",
      "   ---------------------------------- ----- 2.4/2.8 MB 1.0 MB/s eta 0:00:01\n",
      "   ----------------------------------- ---- 2.4/2.8 MB 1.0 MB/s eta 0:00:01\n",
      "   ------------------------------------ --- 2.6/2.8 MB 1.0 MB/s eta 0:00:01\n",
      "   ------------------------------------- -- 2.6/2.8 MB 1.1 MB/s eta 0:00:01\n",
      "   -------------------------------------- - 2.7/2.8 MB 1.1 MB/s eta 0:00:01\n",
      "   ---------------------------------------  2.8/2.8 MB 1.1 MB/s eta 0:00:01\n",
      "   ---------------------------------------- 2.8/2.8 MB 1.1 MB/s eta 0:00:00\n",
      "Installing collected packages: Cython, pmdarima\n",
      "Successfully installed Cython-3.0.10 pmdarima-2.0.4\n"
     ]
    },
    {
     "name": "stderr",
     "output_type": "stream",
     "text": [
      "ERROR: pip's dependency resolver does not currently take into account all the packages that are installed. This behaviour is the source of the following dependency conflicts.\n",
      "tables 3.8.0 requires blosc2~=2.0.0, which is not installed.\n"
     ]
    }
   ],
   "source": [
    "!pip install pmdarima"
   ]
  },
  {
   "cell_type": "code",
   "execution_count": 29,
   "id": "51f5a078",
   "metadata": {},
   "outputs": [
    {
     "name": "stdout",
     "output_type": "stream",
     "text": [
      "Performing stepwise search to minimize aic\n",
      " ARIMA(2,2,2)(0,0,0)[0]             : AIC=inf, Time=4.46 sec\n",
      " ARIMA(0,2,0)(0,0,0)[0]             : AIC=28623.199, Time=0.16 sec\n",
      " ARIMA(1,2,0)(0,0,0)[0]             : AIC=28138.864, Time=0.20 sec\n",
      " ARIMA(0,2,1)(0,0,0)[0]             : AIC=inf, Time=0.94 sec\n",
      " ARIMA(2,2,0)(0,0,0)[0]             : AIC=27797.139, Time=0.31 sec\n",
      " ARIMA(3,2,0)(0,0,0)[0]             : AIC=27592.536, Time=0.49 sec\n",
      " ARIMA(4,2,0)(0,0,0)[0]             : AIC=27489.811, Time=0.65 sec\n",
      " ARIMA(5,2,0)(0,0,0)[0]             : AIC=27337.359, Time=1.68 sec\n",
      " ARIMA(5,2,1)(0,0,0)[0]             : AIC=inf, Time=5.63 sec\n",
      " ARIMA(4,2,1)(0,0,0)[0]             : AIC=inf, Time=4.36 sec\n",
      " ARIMA(5,2,0)(0,0,0)[0] intercept   : AIC=27339.353, Time=2.79 sec\n",
      "\n",
      "Best model:  ARIMA(5,2,0)(0,0,0)[0]          \n",
      "Total fit time: 21.743 seconds\n"
     ]
    }
   ],
   "source": [
    "from pmdarima import auto_arima\n",
    "model=auto_arima(y=training_data['VWAP'],exogenous=training_data[independent_features],trace=True)"
   ]
  },
  {
   "cell_type": "code",
   "execution_count": 30,
   "id": "b663d1c5",
   "metadata": {},
   "outputs": [
    {
     "data": {
      "text/html": [
       "<style>#sk-container-id-1 {color: black;background-color: white;}#sk-container-id-1 pre{padding: 0;}#sk-container-id-1 div.sk-toggleable {background-color: white;}#sk-container-id-1 label.sk-toggleable__label {cursor: pointer;display: block;width: 100%;margin-bottom: 0;padding: 0.3em;box-sizing: border-box;text-align: center;}#sk-container-id-1 label.sk-toggleable__label-arrow:before {content: \"▸\";float: left;margin-right: 0.25em;color: #696969;}#sk-container-id-1 label.sk-toggleable__label-arrow:hover:before {color: black;}#sk-container-id-1 div.sk-estimator:hover label.sk-toggleable__label-arrow:before {color: black;}#sk-container-id-1 div.sk-toggleable__content {max-height: 0;max-width: 0;overflow: hidden;text-align: left;background-color: #f0f8ff;}#sk-container-id-1 div.sk-toggleable__content pre {margin: 0.2em;color: black;border-radius: 0.25em;background-color: #f0f8ff;}#sk-container-id-1 input.sk-toggleable__control:checked~div.sk-toggleable__content {max-height: 200px;max-width: 100%;overflow: auto;}#sk-container-id-1 input.sk-toggleable__control:checked~label.sk-toggleable__label-arrow:before {content: \"▾\";}#sk-container-id-1 div.sk-estimator input.sk-toggleable__control:checked~label.sk-toggleable__label {background-color: #d4ebff;}#sk-container-id-1 div.sk-label input.sk-toggleable__control:checked~label.sk-toggleable__label {background-color: #d4ebff;}#sk-container-id-1 input.sk-hidden--visually {border: 0;clip: rect(1px 1px 1px 1px);clip: rect(1px, 1px, 1px, 1px);height: 1px;margin: -1px;overflow: hidden;padding: 0;position: absolute;width: 1px;}#sk-container-id-1 div.sk-estimator {font-family: monospace;background-color: #f0f8ff;border: 1px dotted black;border-radius: 0.25em;box-sizing: border-box;margin-bottom: 0.5em;}#sk-container-id-1 div.sk-estimator:hover {background-color: #d4ebff;}#sk-container-id-1 div.sk-parallel-item::after {content: \"\";width: 100%;border-bottom: 1px solid gray;flex-grow: 1;}#sk-container-id-1 div.sk-label:hover label.sk-toggleable__label {background-color: #d4ebff;}#sk-container-id-1 div.sk-serial::before {content: \"\";position: absolute;border-left: 1px solid gray;box-sizing: border-box;top: 0;bottom: 0;left: 50%;z-index: 0;}#sk-container-id-1 div.sk-serial {display: flex;flex-direction: column;align-items: center;background-color: white;padding-right: 0.2em;padding-left: 0.2em;position: relative;}#sk-container-id-1 div.sk-item {position: relative;z-index: 1;}#sk-container-id-1 div.sk-parallel {display: flex;align-items: stretch;justify-content: center;background-color: white;position: relative;}#sk-container-id-1 div.sk-item::before, #sk-container-id-1 div.sk-parallel-item::before {content: \"\";position: absolute;border-left: 1px solid gray;box-sizing: border-box;top: 0;bottom: 0;left: 50%;z-index: -1;}#sk-container-id-1 div.sk-parallel-item {display: flex;flex-direction: column;z-index: 1;position: relative;background-color: white;}#sk-container-id-1 div.sk-parallel-item:first-child::after {align-self: flex-end;width: 50%;}#sk-container-id-1 div.sk-parallel-item:last-child::after {align-self: flex-start;width: 50%;}#sk-container-id-1 div.sk-parallel-item:only-child::after {width: 0;}#sk-container-id-1 div.sk-dashed-wrapped {border: 1px dashed gray;margin: 0 0.4em 0.5em 0.4em;box-sizing: border-box;padding-bottom: 0.4em;background-color: white;}#sk-container-id-1 div.sk-label label {font-family: monospace;font-weight: bold;display: inline-block;line-height: 1.2em;}#sk-container-id-1 div.sk-label-container {text-align: center;}#sk-container-id-1 div.sk-container {/* jupyter's `normalize.less` sets `[hidden] { display: none; }` but bootstrap.min.css set `[hidden] { display: none !important; }` so we also need the `!important` here to be able to override the default hidden behavior on the sphinx rendered scikit-learn.org. See: https://github.com/scikit-learn/scikit-learn/issues/21755 */display: inline-block !important;position: relative;}#sk-container-id-1 div.sk-text-repr-fallback {display: none;}</style><div id=\"sk-container-id-1\" class=\"sk-top-container\"><div class=\"sk-text-repr-fallback\"><pre> ARIMA(5,2,0)(0,0,0)[0]          </pre><b>In a Jupyter environment, please rerun this cell to show the HTML representation or trust the notebook. <br />On GitHub, the HTML representation is unable to render, please try loading this page with nbviewer.org.</b></div><div class=\"sk-container\" hidden><div class=\"sk-item\"><div class=\"sk-estimator sk-toggleable\"><input class=\"sk-toggleable__control sk-hidden--visually\" id=\"sk-estimator-id-1\" type=\"checkbox\" checked><label for=\"sk-estimator-id-1\" class=\"sk-toggleable__label sk-toggleable__label-arrow\">ARIMA</label><div class=\"sk-toggleable__content\"><pre> ARIMA(5,2,0)(0,0,0)[0]          </pre></div></div></div></div></div>"
      ],
      "text/plain": [
       "ARIMA(order=(5, 2, 0), scoring_args={}, suppress_warnings=True,\n",
       "      with_intercept=False)"
      ]
     },
     "execution_count": 30,
     "metadata": {},
     "output_type": "execute_result"
    }
   ],
   "source": [
    "model.fit(training_data['VWAP'],training_data[independent_features])"
   ]
  },
  {
   "cell_type": "code",
   "execution_count": 44,
   "id": "c3fc78a5",
   "metadata": {},
   "outputs": [
    {
     "name": "stderr",
     "output_type": "stream",
     "text": [
      "C:\\Users\\ayush\\anaconda3\\Lib\\site-packages\\statsmodels\\tsa\\base\\tsa_model.py:836: ValueWarning: No supported index is available. Prediction results will be given with an integer index beginning at `start`.\n",
      "  return get_prediction_index(\n",
      "C:\\Users\\ayush\\anaconda3\\Lib\\site-packages\\statsmodels\\tsa\\base\\tsa_model.py:836: FutureWarning: No supported index is available. In the next version, calling this method in a model without a supported index will result in an exception.\n",
      "  return get_prediction_index(\n"
     ]
    }
   ],
   "source": [
    "forecast = model.predict(n_periods=len(test_data), X = test_data[independent_features])"
   ]
  },
  {
   "cell_type": "code",
   "execution_count": 45,
   "id": "2b065cfa",
   "metadata": {},
   "outputs": [
    {
     "name": "stderr",
     "output_type": "stream",
     "text": [
      "C:\\Users\\ayush\\AppData\\Local\\Temp\\ipykernel_9836\\4292101604.py:1: SettingWithCopyWarning: \n",
      "A value is trying to be set on a copy of a slice from a DataFrame.\n",
      "Try using .loc[row_indexer,col_indexer] = value instead\n",
      "\n",
      "See the caveats in the documentation: https://pandas.pydata.org/pandas-docs/stable/user_guide/indexing.html#returning-a-view-versus-a-copy\n",
      "  test_data['Forecast']=forecast.values\n"
     ]
    }
   ],
   "source": [
    "test_data['Forecast']=forecast.values"
   ]
  },
  {
   "cell_type": "code",
   "execution_count": 46,
   "id": "13755e90",
   "metadata": {},
   "outputs": [
    {
     "data": {
      "text/plain": [
       "<Axes: xlabel='Date'>"
      ]
     },
     "execution_count": 46,
     "metadata": {},
     "output_type": "execute_result"
    },
    {
     "data": {
      "image/png": "[encoded data removed]",
      "text/plain": [
       "<Figure size 640x480 with 1 Axes>"
      ]
     },
     "metadata": {},
     "output_type": "display_data"
    }
   ],
   "source": [
    "test_data[['VWAP','Forecast']].plot()"
   ]
  },
  {
   "cell_type": "code",
   "execution_count": 47,
   "id": "3d1b8bad",
   "metadata": {},
   "outputs": [
    {
     "data": {
      "text/plain": [
       "3756.190903123795"
      ]
     },
     "execution_count": 47,
     "metadata": {},
     "output_type": "execute_result"
    }
   ],
   "source": [
    "#checking accuracy\n",
    "from sklearn.metrics import mean_absolute_error,mean_squared_error\n",
    "\n",
    "import numpy as np\n",
    "\n",
    "np.sqrt(mean_squared_error(test_data['VWAP'],test_data['Forecast']))"
   ]
  },
  {
   "cell_type": "code",
   "execution_count": 48,
   "id": "4dd4bf70",
   "metadata": {},
   "outputs": [
    {
     "data": {
      "text/plain": [
       "2941.77763104702"
      ]
     },
     "execution_count": 48,
     "metadata": {},
     "output_type": "execute_result"
    }
   ],
   "source": [
    "mean_absolute_error(test_data['VWAP'],test_data['Forecast'])"
   ]
  }
 ],
 "metadata": {
  "kernelspec": {
   "display_name": "Python 3 (ipykernel)",
   "language": "python",
   "name": "python3"
  },
  "language_info": {
   "codemirror_mode": {
    "name": "ipython",
    "version": 3
   },
   "file_extension": ".py",
   "mimetype": "text/x-python",
   "name": "python",
   "nbconvert_exporter": "python",
   "pygments_lexer": "ipython3",
   "version": "3.11.5"
  }
 },
 "nbformat": 4,
 "nbformat_minor": 5
}
